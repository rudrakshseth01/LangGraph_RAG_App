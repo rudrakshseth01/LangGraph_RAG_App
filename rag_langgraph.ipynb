{
 "cells": [
  {
   "cell_type": "code",
   "execution_count": 1,
   "id": "53c689c9",
   "metadata": {},
   "outputs": [
    {
     "name": "stderr",
     "output_type": "stream",
     "text": [
      "None of PyTorch, TensorFlow >= 2.0, or Flax have been found. Models won't be available and only tokenizers, configuration and file/data utilities can be used.\n"
     ]
    }
   ],
   "source": [
    "from langchain_google_genai import ChatGoogleGenerativeAI, GoogleGenerativeAIEmbeddings\n"
   ]
  },
  {
   "cell_type": "code",
   "execution_count": 2,
   "id": "92f418d8",
   "metadata": {},
   "outputs": [
    {
     "name": "stdout",
     "output_type": "stream",
     "text": [
      "Artificial intelligence (AI) is a broad field of computer science focused on **creating systems that can perform tasks that typically require human intelligence.** This includes things like:\n",
      "\n",
      "*   **Learning:** Acquiring knowledge and skills from data.\n",
      "*   **Problem-solving:** Finding solutions to complex challenges.\n",
      "*   **Decision-making:** Choosing the best course of action based on available information.\n",
      "*   **Perception:** Understanding and interpreting sensory input (like images, sounds, and text).\n",
      "*   **Language understanding and generation:** Communicating in human languages.\n",
      "*   **Reasoning:** Drawing logical conclusions.\n",
      "*   **Creativity:** Generating new ideas or content.\n",
      "\n",
      "**Think of it as building \"smart\" machines.** Instead of being explicitly programmed for every single scenario, AI systems are designed to adapt, learn, and improve over time.\n",
      "\n",
      "**Key Concepts and Components of AI:**\n",
      "\n",
      "*   **Machine Learning (ML):** This is a subfield of AI that allows systems to learn from data without being explicitly programmed. Instead of writing specific rules for every situation, you feed the system data, and it identifies patterns and makes predictions or decisions.\n",
      "    *   **Supervised Learning:** The AI is trained on labeled data (input-output pairs).\n",
      "    *   **Unsupervised Learning:** The AI finds patterns in unlabeled data.\n",
      "    *   **Reinforcement Learning:** The AI learns through trial and error, receiving rewards or penalties for its actions.\n",
      "*   **Deep Learning (DL):** A subset of machine learning that uses artificial neural networks with multiple layers (hence \"deep\"). These networks are inspired by the structure and function of the human brain and are particularly good at processing complex data like images, audio, and text.\n",
      "*   **Natural Language Processing (NLP):** This area focuses on enabling computers to understand, interpret, and generate human language. This is what powers chatbots, translation services, and sentiment analysis.\n",
      "*   **Computer Vision:** This field allows computers to \"see\" and interpret images and videos. It's used in facial recognition, self-driving cars, and medical imaging.\n",
      "*   **Robotics:** While not exclusively AI, AI plays a crucial role in making robots intelligent, enabling them to perceive their environment, make decisions, and perform tasks autonomously.\n",
      "*   **Expert Systems:** Early forms of AI that aimed to mimic the decision-making ability of a human expert in a specific domain.\n",
      "\n",
      "**Why is AI important?**\n",
      "\n",
      "AI has the potential to revolutionize many aspects of our lives and industries:\n",
      "\n",
      "*   **Automation:** Automating repetitive and dangerous tasks in manufacturing, logistics, and customer service.\n",
      "*   **Personalization:** Tailoring experiences in areas like recommendations, education, and healthcare.\n",
      "*   **Discovery:** Accelerating scientific research, drug discovery, and material science.\n",
      "*   **Efficiency:** Optimizing processes, resource allocation, and energy consumption.\n",
      "*   **Accessibility:** Creating tools that help people with disabilities.\n",
      "\n",
      "**It's important to note that AI is not a single entity.** It's a vast and evolving field with many different approaches and applications. The term \"artificial intelligence\" can sometimes be used loosely, so understanding the specific type of AI being discussed is crucial.\n",
      "\n",
      "In essence, AI is about building intelligent agents that can perceive their environment and take actions to maximize their chance of achieving their goals.\n"
     ]
    }
   ],
   "source": [
    "llm = ChatGoogleGenerativeAI(model=\"gemini-2.5-flash-lite\", temperature=0.2)\n",
    "response = llm.invoke(\"What is artificial intelligence?\")\n",
    "print(response.content)"
   ]
  },
  {
   "cell_type": "code",
   "execution_count": 4,
   "id": "12ad3fab",
   "metadata": {},
   "outputs": [
    {
     "name": "stdout",
     "output_type": "stream",
     "text": [
      "Chilled Riesling.\n",
      "Or, crisp Sauvignon Blanc.\n",
      "Perhaps a light, fruity Beaujolais.\n"
     ]
    }
   ],
   "source": [
    "from langchain_core.prompts import ChatPromptTemplate\n",
    "prompt = ChatPromptTemplate.from_messages([\n",
    "    (\"system\", \"You are an expert sommelier who only speaks in elegant, short phrases.\"),\n",
    "    (\"human\", \"I'm having a dinner party with {food}. What wine should I serve?\")\n",
    "])\n",
    "\n",
    "# Create the chain: Prompt -> LLM\n",
    "chain = prompt | llm\n",
    "\n",
    "# Invoke the chain\n",
    "response = chain.invoke({\"food\": \"spicy tacos\"})\n",
    "\n",
    "print(response.content)"
   ]
  },
  {
   "cell_type": "code",
   "execution_count": 5,
   "id": "7a7dc036",
   "metadata": {},
   "outputs": [
    {
     "data": {
      "text/plain": [
       "AIMessage(content='Machine learning is a way for computers to learn from data without being explicitly programmed. It uses algorithms to find patterns and make predictions or decisions based on that data.', additional_kwargs={}, response_metadata={'prompt_feedback': {'block_reason': 0, 'safety_ratings': []}, 'finish_reason': 'STOP', 'model_name': 'gemini-2.5-flash-lite', 'safety_ratings': []}, id='run--53cfb6a1-3078-4bdf-9862-5d7c42f313f8-0', usage_metadata={'input_tokens': 21, 'output_tokens': 32, 'total_tokens': 53, 'input_token_details': {'cache_read': 0}})"
      ]
     },
     "execution_count": 5,
     "metadata": {},
     "output_type": "execute_result"
    }
   ],
   "source": [
    "from langchain_core.messages import HumanMessage, SystemMessage\n",
    "# Using messages for more control\n",
    "messages = [\n",
    "    SystemMessage(content=\"You are a helpful AI assistant that explains complex topics simply.\"),\n",
    "    HumanMessage(content=\"Explain machine learning in 2 sentences.\")\n",
    "]\n",
    "\n",
    "response = llm.invoke(messages)\n",
    "response"
   ]
  },
  {
   "cell_type": "code",
   "execution_count": 6,
   "id": "875cb3c4",
   "metadata": {},
   "outputs": [
    {
     "name": "stdout",
     "output_type": "stream",
     "text": [
      "Machine learning is a way for computers to learn from data without being explicitly programmed. It uses algorithms to find patterns and make predictions or decisions based on that data.\n"
     ]
    }
   ],
   "source": [
    "print(response.content)"
   ]
  },
  {
   "cell_type": "code",
   "execution_count": 3,
   "id": "981baa90",
   "metadata": {},
   "outputs": [],
   "source": [
    "from langchain_core.tools import tool\n",
    "from langchain_community.tools import DuckDuckGoSearchRun"
   ]
  },
  {
   "cell_type": "code",
   "execution_count": 5,
   "id": "0a77cb1a",
   "metadata": {},
   "outputs": [
    {
     "name": "stdout",
     "output_type": "stream",
     "text": [
      "Testing Calculator Tool:\n",
      "Response: \n"
     ]
    }
   ],
   "source": [
    "@tool\n",
    "def calculator(expression: str) -> str:\n",
    "    \"\"\"Calculate mathematical expressions. Use this for any math calculations.\"\"\"\n",
    "    try:\n",
    "        result = eval(expression)\n",
    "        return f\"The result of {expression} is {result}\"\n",
    "    except Exception as e:\n",
    "        return f\"Error calculating {expression}: {str(e)}\"\n",
    "\n",
    "search_tool = DuckDuckGoSearchRun()\n",
    "\n",
    "# Bind tools to the LLM\n",
    "tools = [calculator, search_tool]\n",
    "llm_with_tools = llm.bind_tools(tools)\n",
    "\n",
    "# Test the calculator tool\n",
    "print(\"Testing Calculator Tool:\")\n",
    "response = llm_with_tools.invoke(\"What's 25 * 4 + 17?\")\n",
    "print(f\"Response: {response.content}\")"
   ]
  },
  {
   "cell_type": "code",
   "execution_count": 6,
   "id": "35ab8c73",
   "metadata": {},
   "outputs": [
    {
     "data": {
      "text/plain": [
       "AIMessage(content='', additional_kwargs={'function_call': {'name': 'calculator', 'arguments': '{\"expression\": \"25 * 4 + 17\"}'}}, response_metadata={'prompt_feedback': {'block_reason': 0, 'safety_ratings': []}, 'finish_reason': 'STOP', 'model_name': 'gemini-2.5-flash-lite', 'safety_ratings': []}, id='run--f1b4555f-40d1-4c0a-827f-edae502268b0-0', tool_calls=[{'name': 'calculator', 'args': {'expression': '25 * 4 + 17'}, 'id': 'af6b9d88-8ddb-412f-b5b6-220f87ff6d5f', 'type': 'tool_call'}], usage_metadata={'input_tokens': 121, 'output_tokens': 21, 'total_tokens': 142, 'input_token_details': {'cache_read': 0}})"
      ]
     },
     "execution_count": 6,
     "metadata": {},
     "output_type": "execute_result"
    }
   ],
   "source": [
    "response"
   ]
  },
  {
   "cell_type": "code",
   "execution_count": 7,
   "id": "e97a907b",
   "metadata": {},
   "outputs": [],
   "source": [
    "# Map tool names to tool objects for dynamic execution\n",
    "tool_map = {\n",
    "    'calculator': calculator,\n",
    "    'duckduckgo_search': search_tool,\n",
    "}\n",
    "\n",
    "def handle_tool_calls(response, tool_map):\n",
    "    \"\"\"Executes all tool calls in the LLM response using the tool_map.\"\"\"\n",
    "    if not getattr(response, 'tool_calls', None):\n",
    "        return\n",
    "\n",
    "    print(f\"Tool calls requested: {len(response.tool_calls)}\")\n",
    "    for tool_call in response.tool_calls:\n",
    "        tool_name = tool_call['name']\n",
    "        args = tool_call['args']\n",
    "        print(f\"Tool: {tool_name}\")\n",
    "        print(f\"Args: {args}\")\n",
    "\n",
    "        tool = tool_map.get(tool_name)\n",
    "        if tool:\n",
    "            result = tool.invoke(args)\n",
    "            # Print first 200 chars for long responses (e.g., search)\n",
    "            preview = result[:200] + \"...\" if isinstance(result, str) and len(result) > 200 else result\n",
    "            print(f\"Tool result: {preview}\")"
   ]
  },
  {
   "cell_type": "code",
   "execution_count": 8,
   "id": "19f577ec",
   "metadata": {},
   "outputs": [
    {
     "name": "stdout",
     "output_type": "stream",
     "text": [
      "Query: What's 25 * 4 + 17?\n",
      "Response: \n",
      "Tool calls requested: 1\n",
      "Tool: calculator\n",
      "Args: {'expression': '25 * 4 + 17'}\n",
      "Tool result: The result of 25 * 4 + 17 is 117\n",
      "\n",
      "\n",
      "Query: Search for recent news about artificial intelligence\n",
      "Response: \n",
      "Tool calls requested: 1\n",
      "Tool: duckduckgo_search\n",
      "Args: {'query': 'recent news about artificial intelligence'}\n",
      "Tool result: 3 days ago · Explore the latest artificial intelligence news with Reuters - from AI breakthroughs and technology trends to regulation, ethics, business and global impact. AI News reports on the latest...\n",
      "\n",
      "\n"
     ]
    }
   ],
   "source": [
    "def test_llm_tool(query):\n",
    "    print(f\"Query: {query}\")\n",
    "    response = llm_with_tools.invoke(query)\n",
    "    print(f\"Response: {getattr(response, 'content', response)}\")\n",
    "    handle_tool_calls(response, tool_map)\n",
    "    print(\"\\n\")\n",
    "\n",
    "test_llm_tool(\"What's 25 * 4 + 17?\")\n",
    "test_llm_tool(\"Search for recent news about artificial intelligence\")"
   ]
  },
  {
   "cell_type": "code",
   "execution_count": 9,
   "id": "168dbfbd",
   "metadata": {},
   "outputs": [],
   "source": [
    "from pydantic import BaseModel, Field\n",
    "from typing import List, Optional"
   ]
  },
  {
   "cell_type": "code",
   "execution_count": 10,
   "id": "528c2f8e",
   "metadata": {},
   "outputs": [
    {
     "name": "stdout",
     "output_type": "stream",
     "text": [
      "Testing Structured Output - Person Info:\n",
      "Name: John Smith\n",
      "Age: 35\n",
      "Occupation: Software Engineer\n",
      "Skills: Machine Learning, Python Programming, Cloud Architecture\n"
     ]
    }
   ],
   "source": [
    "class PersonInfo(BaseModel):\n",
    "    \"\"\"Information about a person\"\"\"\n",
    "    name: str = Field(description=\"Full name of the person\")\n",
    "    age: Optional[int] = Field(description=\"Age of the person\")\n",
    "    occupation: str = Field(description=\"Person's job or profession\")\n",
    "    skills: List[str] = Field(description=\"List of skills or expertise\")\n",
    "\n",
    "structured_llm = llm.with_structured_output(PersonInfo)\n",
    "\n",
    "# Test with person information\n",
    "print(\"Testing Structured Output - Person Info:\")\n",
    "person_prompt = \"\"\"\n",
    "Extract information about this person:\n",
    "\"John Smith is a 35-year-old software engineer who works at Google.\n",
    "He specializes in machine learning, Python programming, and cloud architecture.\n",
    "John has been working in tech for over 10 years and is passionate about AI research.\"\n",
    "\"\"\"\n",
    "\n",
    "person_result = structured_llm.invoke(person_prompt)\n",
    "print(f\"Name: {person_result.name}\")\n",
    "print(f\"Age: {person_result.age}\")\n",
    "print(f\"Occupation: {person_result.occupation}\")\n",
    "print(f\"Skills: {', '.join(person_result.skills)}\")"
   ]
  },
  {
   "cell_type": "code",
   "execution_count": 11,
   "id": "dc632b50",
   "metadata": {},
   "outputs": [],
   "source": [
    "from typing import Annotated, TypedDict\n",
    "from langchain_core.messages import BaseMessage, HumanMessage, AIMessage\n",
    "from langgraph.graph.message import add_messages"
   ]
  },
  {
   "cell_type": "code",
   "execution_count": 12,
   "id": "ee0bfb66",
   "metadata": {},
   "outputs": [],
   "source": [
    "class State(TypedDict):\n",
    "    \"\"\"State for our chatbot - this holds the conversation history\"\"\"\n",
    "    # The add_messages function handles appending new messages to the conversation\n",
    "    messages: Annotated[list[BaseMessage], add_messages]\n"
   ]
  },
  {
   "cell_type": "code",
   "execution_count": 13,
   "id": "9587b842",
   "metadata": {},
   "outputs": [
    {
     "name": "stdout",
     "output_type": "stream",
     "text": [
      "Chatbot node function created\n"
     ]
    }
   ],
   "source": [
    "def chatbot_node(state: State) -> State:\n",
    "    \"\"\"\n",
    "    The main chatbot node that processes messages and generates responses\n",
    "    \"\"\"\n",
    "    print(f\"Processing {len(state['messages'])} messages\")\n",
    "\n",
    "    # Get the response from the LLM\n",
    "    response = llm.invoke(state[\"messages\"])\n",
    "\n",
    "    # Return the updated state with the new response\n",
    "    return {\"messages\": [response]}\n",
    "\n",
    "print(\"Chatbot node function created\")"
   ]
  },
  {
   "cell_type": "code",
   "execution_count": 14,
   "id": "6b51de86",
   "metadata": {},
   "outputs": [],
   "source": [
    "from langgraph.graph import StateGraph, START, END"
   ]
  },
  {
   "cell_type": "code",
   "execution_count": 15,
   "id": "8f25e932",
   "metadata": {},
   "outputs": [
    {
     "name": "stdout",
     "output_type": "stream",
     "text": [
      "Graph structure created\n",
      "Graph compiled successfully\n"
     ]
    }
   ],
   "source": [
    "graph_builder = StateGraph(State)\n",
    "\n",
    "# Add the chatbot node to the graph\n",
    "graph_builder.add_node(\"chatbot\", chatbot_node)\n",
    "\n",
    "# Define the flow: START -> chatbot -> END\n",
    "graph_builder.add_edge(START, \"chatbot\")\n",
    "graph_builder.add_edge(\"chatbot\", END)\n",
    "\n",
    "# Compile the graph\n",
    "graph = graph_builder.compile()\n",
    "\n",
    "print(\"Graph structure created\")\n",
    "print(\"Graph compiled successfully\")"
   ]
  },
  {
   "cell_type": "code",
   "execution_count": 17,
   "id": "fc78611f",
   "metadata": {},
   "outputs": [
    {
     "data": {
      "image/png": "[encoded data removed]",
      "text/plain": [
       "<langgraph.graph.state.CompiledStateGraph object at 0x00000169ED488E00>"
      ]
     },
     "execution_count": 17,
     "metadata": {},
     "output_type": "execute_result"
    }
   ],
   "source": [
    "graph_builder.compile()"
   ]
  },
  {
   "cell_type": "code",
   "execution_count": 20,
   "id": "5006412a",
   "metadata": {},
   "outputs": [
    {
     "name": "stdout",
     "output_type": "stream",
     "text": [
      "Processing 1 messages\n"
     ]
    },
    {
     "data": {
      "text/plain": [
       "{'messages': [HumanMessage(content='Hello, who won the world series in 2020?', additional_kwargs={}, response_metadata={}, id='32952ff6-0e1e-40a4-9eb8-9c3634473780'),\n",
       "  AIMessage(content='The **Los Angeles Dodgers** won the World Series in 2020.', additional_kwargs={}, response_metadata={'prompt_feedback': {'block_reason': 0, 'safety_ratings': []}, 'finish_reason': 'STOP', 'model_name': 'gemini-2.5-flash-lite', 'safety_ratings': []}, id='run--6324bdc2-3851-412a-a635-7283195ab473-0', usage_metadata={'input_tokens': 15, 'output_tokens': 17, 'total_tokens': 32, 'input_token_details': {'cache_read': 0}})]}"
      ]
     },
     "execution_count": 20,
     "metadata": {},
     "output_type": "execute_result"
    }
   ],
   "source": [
    "graph.invoke({\"messages\": [HumanMessage(content=\"Hello, who won the world series in 2020?\")]})"
   ]
  },
  {
   "cell_type": "code",
   "execution_count": 21,
   "id": "e285f480",
   "metadata": {},
   "outputs": [],
   "source": [
    "from langgraph.checkpoint.memory import MemorySaver"
   ]
  },
  {
   "cell_type": "code",
   "execution_count": 23,
   "id": "fa230034",
   "metadata": {},
   "outputs": [
    {
     "name": "stdout",
     "output_type": "stream",
     "text": [
      "Memory added to chatbot\n",
      "\n",
      "Testing Conversation with Memory:\n",
      "\n",
      "👤 User: Hi, my name is rudraksh\n",
      "Processing 1 messages\n",
      "Thread-id: thread-1 🤖 Assistant: Hi Rudraksh, it's nice to meet you! How can I help you today?\n",
      "\n",
      "👤 User: What's my name?\n",
      "Processing 3 messages\n",
      "Thread-id: thread-1 🤖 Assistant: Your name is Rudraksh.\n"
     ]
    }
   ],
   "source": [
    "memory = MemorySaver()\n",
    "\n",
    "# Compile the graph with memory\n",
    "graph_with_memory = graph_builder.compile(checkpointer=memory)\n",
    "\n",
    "print(\"Memory added to chatbot\")\n",
    "\n",
    "def chat_with_memory(message: str, thread_id: str):\n",
    "    \"\"\"Chat function with memory\"\"\"\n",
    "    print(f\"\\n👤 User: {message}\")\n",
    "\n",
    "    # Configuration for the thread\n",
    "    config = {\"configurable\": {\"thread_id\": thread_id}}\n",
    "\n",
    "    # Add the user message to the conversation\n",
    "    initial_state = {\"messages\": [HumanMessage(content=message)]}\n",
    "\n",
    "    # Run the graph with memory\n",
    "    result = graph_with_memory.invoke(initial_state, config)\n",
    "\n",
    "    # Get the AI response\n",
    "    ai_response = result[\"messages\"][-1].content\n",
    "    print(f\"Thread-id: {thread_id} 🤖 Assistant: {ai_response}\")\n",
    "\n",
    "\n",
    "# Test conversation with memory\n",
    "print(\"\\nTesting Conversation with Memory:\")\n",
    "\n",
    "# Start a conversation\n",
    "chat_with_memory(\"Hi, my name is rudraksh\", thread_id=\"thread-1\")\n",
    "chat_with_memory(\"What's my name?\", thread_id=\"thread-1\")"
   ]
  },
  {
   "cell_type": "code",
   "execution_count": 24,
   "id": "49c4b66d",
   "metadata": {},
   "outputs": [],
   "source": [
    "class AgentState(TypedDict):\n",
    "    \"\"\"State for our two-node agent\"\"\"\n",
    "    messages: Annotated[list[BaseMessage], add_messages]\n",
    "\n",
    "# Initialize LLM with tools\n",
    "llm_with_tools = llm.bind_tools(tools)"
   ]
  },
  {
   "cell_type": "code",
   "execution_count": 25,
   "id": "b15a81d7",
   "metadata": {},
   "outputs": [
    {
     "name": "stdout",
     "output_type": "stream",
     "text": [
      "Chatbot node created\n"
     ]
    }
   ],
   "source": [
    "def chatbot_node(state: AgentState) -> AgentState:\n",
    "    \"\"\"\n",
    "    The chatbot node that decides whether to use tools or provide direct responses\n",
    "    \"\"\"\n",
    "    messages = state[\"messages\"]\n",
    "\n",
    "    # Add system prompt\n",
    "    system_message = \"\"\"You are a helpful AI assistant. You have access to web search and calculator tools.\n",
    "\n",
    "    Use the web_search tool when:\n",
    "    - Asked about current events, news, or recent information\n",
    "    - Need to find specific facts or data\n",
    "    - Asked about real-time information (weather, stock prices, etc.)\n",
    "\n",
    "    Use the calculator tool when:\n",
    "    - Asked to perform mathematical calculations\n",
    "    - Need to solve math problems\n",
    "\n",
    "    For general knowledge questions that don't require real-time data, answer directly.\n",
    "    Be helpful and conversational in your responses.\"\"\"\n",
    "\n",
    "    # Prepare messages with system prompt\n",
    "    all_messages = [{\"role\": \"system\", \"content\": system_message}] + messages\n",
    "\n",
    "    # Get response from LLM\n",
    "    response = llm_with_tools.invoke(all_messages)\n",
    "\n",
    "    return {\"messages\": [response]}\n",
    "\n",
    "print(\"Chatbot node created\")"
   ]
  },
  {
   "cell_type": "code",
   "execution_count": 26,
   "id": "406d04b0",
   "metadata": {},
   "outputs": [],
   "source": [
    "from langgraph.prebuilt import ToolNode\n",
    "from typing import Literal"
   ]
  },
  {
   "cell_type": "code",
   "execution_count": 27,
   "id": "d7ff3542",
   "metadata": {},
   "outputs": [
    {
     "data": {
      "text/plain": [
       "[StructuredTool(name='calculator', description='Calculate mathematical expressions. Use this for any math calculations.', args_schema=<class 'langchain_core.utils.pydantic.calculator'>, func=<function calculator at 0x00000169ECC93BA0>),\n",
       " DuckDuckGoSearchRun(api_wrapper=DuckDuckGoSearchAPIWrapper(region='wt-wt', safesearch='moderate', time='y', max_results=5, backend='auto', source='text'))]"
      ]
     },
     "execution_count": 27,
     "metadata": {},
     "output_type": "execute_result"
    }
   ],
   "source": [
    "tools"
   ]
  },
  {
   "cell_type": "code",
   "execution_count": 28,
   "id": "d63345ea",
   "metadata": {},
   "outputs": [
    {
     "name": "stdout",
     "output_type": "stream",
     "text": [
      "Tool node created\n"
     ]
    }
   ],
   "source": [
    "tool_node = ToolNode(tools)\n",
    "\n",
    "print(\"Tool node created\")\n"
   ]
  },
  {
   "cell_type": "code",
   "execution_count": 29,
   "id": "fa960aa1",
   "metadata": {},
   "outputs": [
    {
     "name": "stdout",
     "output_type": "stream",
     "text": [
      "Routing logic created\n"
     ]
    }
   ],
   "source": [
    "\n",
    "def should_continue(state: AgentState) -> Literal[\"tools\", \"end\"]:\n",
    "    \"\"\"\n",
    "    Determine whether to continue to tools or end the conversation\n",
    "    \"\"\"\n",
    "    messages = state[\"messages\"]\n",
    "    last_message = messages[-1]\n",
    "\n",
    "    # If the last message has tool calls, go to tools\n",
    "    if hasattr(last_message, 'tool_calls') and last_message.tool_calls:\n",
    "        return \"tools\"\n",
    "    # Otherwise, end the conversation\n",
    "    else:\n",
    "        return \"end\"\n",
    "\n",
    "print(\"Routing logic created\")"
   ]
  },
  {
   "cell_type": "code",
   "execution_count": 30,
   "id": "5dddce4c",
   "metadata": {},
   "outputs": [
    {
     "name": "stdout",
     "output_type": "stream",
     "text": [
      "Graph compiled with memory\n",
      "\n"
     ]
    },
    {
     "data": {
      "image/png": "[encoded data removed]",
      "text/plain": [
       "<langgraph.graph.state.CompiledStateGraph object at 0x00000169EE5768A0>"
      ]
     },
     "execution_count": 30,
     "metadata": {},
     "output_type": "execute_result"
    }
   ],
   "source": [
    "workflow = StateGraph(AgentState)\n",
    "\n",
    "# Add nodes\n",
    "workflow.add_node(\"chatbot\", chatbot_node)\n",
    "workflow.add_node(\"tools\", tool_node)\n",
    "\n",
    "# Set entry point\n",
    "workflow.add_edge(START, \"chatbot\")\n",
    "\n",
    "# Add conditional edges\n",
    "workflow.add_conditional_edges(\n",
    "    \"chatbot\",\n",
    "    should_continue,\n",
    "    {\n",
    "        \"tools\": \"tools\",\n",
    "        \"end\": END,\n",
    "    },\n",
    ")\n",
    "\n",
    "# After using tools, go back to chatbot\n",
    "workflow.add_edge(\"tools\", \"chatbot\")\n",
    "\n",
    "# Compile the graph\n",
    "memory = MemorySaver()\n",
    "app = workflow.compile(checkpointer=memory)\n",
    "\n",
    "print(\"Graph compiled with memory\\n\")\n",
    "\n",
    "workflow.compile(checkpointer=memory)\n"
   ]
  },
  {
   "cell_type": "code",
   "execution_count": null,
   "id": "31acdf45",
   "metadata": {},
   "outputs": [
    {
     "name": "stdout",
     "output_type": "stream",
     "text": [
      "\n",
      "👤 User: What's 15% of 240?\n",
      "🤖 Assistant: 15% of 240 is 36.\n",
      "\n",
      "👤 User: What's the latest news about artificial intelligence?\n",
      "🔧 Tool Result: 2 hours ago — ARTIFICIAL INTELLIGENCE NEWS · AI 'workslop' may be destroying your productivity , sug...\n",
      "🤖 Assistant: The latest news about artificial intelligence includes:\n",
      "\n",
      "*   A new Harvard study suggests that AI \"workslops\" might be harming productivity.\n",
      "*   Sam Altman claims that Artificial General Intelligence (AGI) will take over 40% of tasks.\n",
      "*   SoftBank's chief predicts that Artificial Superintelligence (ASI) will arrive within 10 years, even sooner than AGI.\n",
      "*   Malaysia has launched its first AI-powered bank, Ryt Bank.\n",
      "*   Google's Veo 3 AI tools for video creation are being discussed.\n",
      "*   CoreWeave, an AI cloud provider, has expanded its partnership with OpenAI with a new deal worth up to $6.5 billion.\n",
      "*   Elon Musk's xAI has filed a lawsuit accusing OpenAI of stealing trade secrets.\n",
      "*   There's a mention of deepfakes and \"slopaganda\" in relation to AI.\n",
      "*   ServiceNow University is launching in India with the goal of training 1 million people in AI by 2027, as Agentic AI is expected to grow.\n",
      "\n",
      "👤 User: What's the latest news about artificial intelligence?\n",
      "🔧 Tool Result: The Latest Trends News on the Artificial Intelligence Updates you Must be Aware Off ... 1 5 Easy Fac...\n",
      "🤖 Assistant: Here's the latest news about artificial intelligence:\n",
      "\n",
      "*   Elon Musk's AI startup, xAI, has launched Grok 4, which they claim is the world's most powerful AI model based on benchmarks.\n",
      "*   Artificial Intelligence is rapidly changing technology and human interaction.\n",
      "*   There are many AI tools available that can boost productivity, automate tasks, and drive innovation.\n",
      "*   The field of AI continues to evolve at an unprecedented pace.\n"
     ]
    }
   ],
   "source": [
    "from langchain_core.messages import HumanMessage, AIMessage, ToolMessage\n",
    "def chat_with_agent(message: str, thread_id: str):\n",
    "    \"\"\"Chat with the two-node agent\"\"\"\n",
    "    print(f\"\\n👤 User: {message}\")\n",
    "\n",
    "    config = {\"configurable\": {\"thread_id\": thread_id}}\n",
    "\n",
    "    # Stream the response to see the process\n",
    "    messages_to_process = {\"messages\": [HumanMessage(content=message)]}\n",
    "\n",
    "    for event in app.stream(messages_to_process, config):\n",
    "        for value in event.values():\n",
    "            if \"messages\" in value:\n",
    "                last_message = value[\"messages\"][-1]\n",
    "                if hasattr(last_message, 'content') and last_message.content:\n",
    "                    if isinstance(last_message, AIMessage):\n",
    "                        print(f\"🤖 Assistant: {last_message.content}\")\n",
    "                    elif isinstance(last_message, ToolMessage):\n",
    "                        print(f\"🔧 Tool Result: {last_message.content[:100]}...\")\n",
    "\n",
    "while True:\n",
    "    user_input = input(\"User: \")\n",
    "    if user_input.lower() == \"exit\":\n",
    "        break\n",
    "    chat_with_agent(user_input, thread_id=\"thread-2\")"
   ]
  },
  {
   "cell_type": "markdown",
   "id": "2d9db364",
   "metadata": {},
   "source": [
    "# langgraph"
   ]
  },
  {
   "cell_type": "markdown",
   "id": "47ca12b9",
   "metadata": {},
   "source": []
  },
  {
   "cell_type": "code",
   "execution_count": 52,
   "id": "e848a437",
   "metadata": {},
   "outputs": [],
   "source": [
    "\n",
    "# ── Imports ───────────────────────────────────────────────────────────\n",
    "from pathlib import Path\n",
    "from typing   import List\n",
    "from langchain_community.document_loaders import (\n",
    "    PyPDFLoader, Docx2txtLoader, TextLoader, UnstructuredMarkdownLoader\n",
    ")\n",
    "from langchain_community.document_loaders.directory import DirectoryLoader\n",
    "from langchain_text_splitters import RecursiveCharacterTextSplitter\n",
    "from langchain_community.vectorstores import Chroma\n",
    "from langchain_core.documents import Document\n",
    "from langchain_google_genai import GoogleGenerativeAIEmbeddings\n",
    "from langchain_core.messages import HumanMessage, AIMessage, ToolMessage,BaseMessage\n",
    "from langgraph.prebuilt import ToolNode\n",
    "from typing import Literal\n",
    "from langgraph.graph import StateGraph, START, END\n",
    "import os\n",
    "from langchain_google_genai import ChatGoogleGenerativeAI\n",
    "from langchain_core.tools import tool\n",
    "from pydantic import BaseModel, Field\n",
    "from typing import Annotated, TypedDict\n",
    "from langgraph.checkpoint.memory import MemorySaver"
   ]
  },
  {
   "cell_type": "code",
   "execution_count": 6,
   "id": "83e4b43b",
   "metadata": {},
   "outputs": [
    {
     "name": "stdout",
     "output_type": "stream",
     "text": [
      "Loaded 5 documents from the folder.\n"
     ]
    }
   ],
   "source": [
    "def load_documents(folder_path: str) -> List[Document]:\n",
    "    documents = []\n",
    "    for filename in os.listdir(folder_path):\n",
    "        file_path = os.path.join(folder_path, filename)\n",
    "        if filename.endswith('.pdf'):\n",
    "            loader = PyPDFLoader(file_path)\n",
    "        elif filename.endswith('.docx'):\n",
    "            loader = Docx2txtLoader(file_path)\n",
    "        else:\n",
    "            print(f\"Unsupported file type: {filename}\")\n",
    "            continue\n",
    "        documents.extend(loader.load())\n",
    "    return documents\n",
    "\n",
    "folder_path = \"docs\"\n",
    "documents = load_documents(folder_path)\n",
    "print(f\"Loaded {len(documents)} documents from the folder.\")"
   ]
  },
  {
   "cell_type": "code",
   "execution_count": 7,
   "id": "04b4d809",
   "metadata": {},
   "outputs": [
    {
     "data": {
      "text/plain": [
       "Document(metadata={'source': 'docs\\\\Company_ GreenFields BioTech.docx'}, page_content='Company: GreenFields BioTech\\n\\nHeadquarters: GreenFields BioTech is headquartered in Zurich, Switzerland. Known for its groundbreaking research in sustainable agriculture and biotechnology, the company has strategically positioned itself in Zurich, a city recognized for its leadership in scientific research and innovation. This location provides GreenFields BioTech with an ideal environment to collaborate with leading academic institutions and industry experts, driving forward its mission to create eco-friendly farming solutions.')"
      ]
     },
     "execution_count": 7,
     "metadata": {},
     "output_type": "execute_result"
    }
   ],
   "source": [
    "documents[0]"
   ]
  },
  {
   "cell_type": "code",
   "execution_count": 11,
   "id": "0a09540e",
   "metadata": {},
   "outputs": [
    {
     "name": "stdout",
     "output_type": "stream",
     "text": [
      "Split the documents into 8 chunks.\n"
     ]
    }
   ],
   "source": [
    "text_splitter = RecursiveCharacterTextSplitter(\n",
    "    chunk_size=1000,\n",
    "    chunk_overlap=200,\n",
    "    length_function=len\n",
    ")\n",
    "\n",
    "chunks = text_splitter.split_documents(documents)\n",
    "print(f\"Split the documents into {len(chunks)} chunks.\")"
   ]
  },
  {
   "cell_type": "code",
   "execution_count": 14,
   "id": "8f451e73",
   "metadata": {},
   "outputs": [
    {
     "name": "stdout",
     "output_type": "stream",
     "text": [
      "Index built at D:\\couses\\project\\langchain\\nrml chat bot campusx\\chroma_db_1\n"
     ]
    }
   ],
   "source": [
    "# ── Config ────────────────────────────────────────────────────────────\n",
    "SOURCE_DIR   = Path(\"docs\")             # put your files here\n",
    "INDEX_DIR    = Path(\"chroma_db_1\")        # will be created if missing\n",
    "COLLECTION   = \"kb_collection\"\n",
    "EMBED_MODEL  = \"gemini-embedding-001\"\n",
    "\n",
    "embeddings = GoogleGenerativeAIEmbeddings(model=EMBED_MODEL)\n",
    "vectordb   = Chroma.from_documents(\n",
    "    documents         = chunks,\n",
    "    embedding         = embeddings,\n",
    "    persist_directory = str(INDEX_DIR),\n",
    "    collection_name   = COLLECTION,\n",
    ")\n",
    "vectordb.persist()\n",
    "print(\"Index built at\", INDEX_DIR.resolve())"
   ]
  },
  {
   "cell_type": "code",
   "execution_count": 15,
   "id": "7716df0e",
   "metadata": {},
   "outputs": [
    {
     "data": {
      "text/plain": [
       "[Document(metadata={'source': 'docs\\\\GreenGrow Innovations_ Company History.docx'}, page_content='GreenGrow Innovations was founded in 2010 by Sarah Chen and Michael Rodriguez, two agricultural engineers with a passion for sustainable farming. The company started in a small garage in Portland, Oregon, with a simple mission: to make farming more environmentally friendly and efficient.\\n\\n\\n\\nIn its early days, GreenGrow focused on developing smart irrigation systems that could significantly reduce water usage in agriculture. Their first product, the WaterWise Sensor, was launched in 2012 and quickly gained popularity among local farmers. This success allowed the company to expand its research and development efforts.\\n\\n\\n\\nBy 2015, GreenGrow had outgrown its garage origins and moved into a proper office and research facility in the outskirts of Portland. This move coincided with the development of their second major product, the SoilHealth Monitor, which used advanced sensors to analyze soil composition and provide real-time recommendations for optimal crop growth.'),\n",
       " Document(metadata={'source': 'docs\\\\GreenGrow Innovations_ Company History.docx'}, page_content='GreenGrow Innovations was founded in 2010 by Sarah Chen and Michael Rodriguez, two agricultural engineers with a passion for sustainable farming. The company started in a small garage in Portland, Oregon, with a simple mission: to make farming more environmentally friendly and efficient.\\n\\n\\n\\nIn its early days, GreenGrow focused on developing smart irrigation systems that could significantly reduce water usage in agriculture. Their first product, the WaterWise Sensor, was launched in 2012 and quickly gained popularity among local farmers. This success allowed the company to expand its research and development efforts.\\n\\n\\n\\nBy 2015, GreenGrow had outgrown its garage origins and moved into a proper office and research facility in the outskirts of Portland. This move coincided with the development of their second major product, the SoilHealth Monitor, which used advanced sensors to analyze soil composition and provide real-time recommendations for optimal crop growth.')]"
      ]
     },
     "execution_count": 15,
     "metadata": {},
     "output_type": "execute_result"
    }
   ],
   "source": [
    "retriever = vectordb.as_retriever(search_kwargs={\"k\": 2})\n",
    "retriever_results = retriever.invoke(\"When was GreenGrow Innovations founded?\")\n",
    "retriever_results"
   ]
  },
  {
   "cell_type": "code",
   "execution_count": 25,
   "id": "231b1382",
   "metadata": {},
   "outputs": [],
   "source": [
    "from dotenv import load_dotenv\n",
    "import os\n",
    "\n",
    "load_dotenv()\n",
    "from langchain_tavily  import TavilySearch\n",
    "tavily = TavilySearch(max_results=3, topic=\"general\")\n"
   ]
  },
  {
   "cell_type": "code",
   "execution_count": 34,
   "id": "8ce72a47",
   "metadata": {},
   "outputs": [
    {
     "data": {
      "text/plain": [
       "{'query': 'what are ransformers in ai',\n",
       " 'follow_up_questions': None,\n",
       " 'answer': None,\n",
       " 'images': [],\n",
       " 'results': [{'url': 'https://aws.amazon.com/what-is/transformers-in-artificial-intelligence/',\n",
       "   'title': 'What are Transformers in Artificial Intelligence?',\n",
       "   'content': 'For example, consider this input sequence: \"What is the color of the sky?\" The transformer model uses an internal mathematical representation that identifies the relevancy and relationship between the words color, sky, and blue. Organizations use transformer models for all types of sequence conversions, from speech recognition to machine translation and protein sequence analysis. The encoder reads and processes the entire input data sequence, such as an English sentence, and transforms it into a compact mathematical representation. Transformer models and RNNs are both architectures used for processing sequential data. This parallelization enables much faster training times and the ability to handle much longer sequences than RNNs. The self-attention mechanism in transformers also enables the model to consider the entire data sequence simultaneously.',\n",
       "   'score': 0.5752307,\n",
       "   'raw_content': None},\n",
       "  {'url': 'https://www.pluralsight.com/resources/blog/ai-and-data/what-are-transformers-generative-ai',\n",
       "   'title': 'What are transformers in Generative AI?',\n",
       "   'content': 'Understand how transformer models power generative AI like ChatGPT, with attention mechanisms and deep learning fundamentals. In this post, I’ll explain the Transformer architecture, how it powers AI models like GPT and BERT, and its impact on the future of Generative AI. The Transformer architecture introduced several groundbreaking innovations that set it apart from Generative AI techniques like GANs and VAEs. Transformer models understand the interplay of words in a sentence, capturing context. Multiple projects like Google’s BERT and OpenAI’s GPT-3 and GPT-4, two of the most powerful generative AI models, are based on the Transformer architecture. The Transformers architecture is poised to significantly advance the capabilities and applications of Generative AI, pushing the boundaries of what machines can create and how they assist in the creative process.',\n",
       "   'score': 0.42005292,\n",
       "   'raw_content': None},\n",
       "  {'url': 'https://www.datacamp.com/tutorial/how-transformers-work',\n",
       "   'title': 'How Transformers Work: A Detailed Exploration of ...',\n",
       "   'content': 'Jan 9, 2024—A transformer isa type of artificial intelligence modelthat learns to understand and generate human-like text by analyzing patterns in large amounts of text',\n",
       "   'score': 0.28117657,\n",
       "   'raw_content': None}],\n",
       " 'response_time': 1.4,\n",
       " 'request_id': '09d474fc-f78f-456a-a4f0-114d351038f0'}"
      ]
     },
     "execution_count": 34,
     "metadata": {},
     "output_type": "execute_result"
    }
   ],
   "source": [
    "tavily.invoke({\"query\": \"what are ransformers in ai\"})"
   ]
  },
  {
   "cell_type": "code",
   "execution_count": 31,
   "id": "ba7b597f",
   "metadata": {},
   "outputs": [],
   "source": [
    "\n",
    "@tool\n",
    "def web_search_tool(query: str) -> str:\n",
    "    \"\"\"Up-to-date web info via Tavily\"\"\"\n",
    "    try:\n",
    "        result = tavily.invoke({\"query\": query})\n",
    "\n",
    "        # Extract and format the results from Tavily response\n",
    "        if isinstance(result, dict) and 'results' in result:\n",
    "            formatted_results = []\n",
    "            for item in result['results']:\n",
    "                title = item.get('title', 'No title')\n",
    "                content = item.get('content', 'No content')\n",
    "                url = item.get('url', '')\n",
    "                formatted_results.append(f\"Title: {title}\\nContent: {content}\\nURL: {url}\")\n",
    "\n",
    "            return \"\\n\\n\".join(formatted_results) if formatted_results else \"No results found\"\n",
    "        else:\n",
    "            return str(result)\n",
    "    except Exception as e:\n",
    "        return f\"WEB_ERROR::{e}\"\n",
    "\n",
    "@tool\n",
    "def rag_search_tool(query: str) -> str:\n",
    "    \"\"\"Top-3 chunks from KB (empty string if none)\"\"\"\n",
    "    try:\n",
    "        docs = retriever.invoke(query, k=3)\n",
    "        return \"\\n\\n\".join(d.page_content for d in docs) if docs else \"\"\n",
    "    except Exception as e:\n",
    "        return f\"RAG_ERROR::{e}\""
   ]
  },
  {
   "cell_type": "code",
   "execution_count": 35,
   "id": "30f49e17",
   "metadata": {},
   "outputs": [
    {
     "name": "stdout",
     "output_type": "stream",
     "text": [
      "Title: What are Transformers in Artificial Intelligence?\n",
      "Content: For example, consider this input sequence: \"What is the color of the sky?\" The transformer model uses an internal mathematical representation that identifies the relevancy and relationship between the words color, sky, and blue. Organizations use transformer models for all types of sequence conversions, from speech recognition to machine translation and protein sequence analysis. The encoder reads and processes the entire input data sequence, such as an English sentence, and transforms it into a compact mathematical representation. Transformer models and RNNs are both architectures used for processing sequential data. This parallelization enables much faster training times and the ability to handle much longer sequences than RNNs. The self-attention mechanism in transformers also enables the model to consider the entire data sequence simultaneously.\n",
      "URL: https://aws.amazon.com/what-is/transformers-in-artificial-intelligence/\n",
      "\n",
      "Title: What are transformers in Generative AI?\n",
      "Content: Understand how transformer models power generative AI like ChatGPT, with attention mechanisms and deep learning fundamentals. In this post, I’ll explain the Transformer architecture, how it powers AI models like GPT and BERT, and its impact on the future of Generative AI. The Transformer architecture introduced several groundbreaking innovations that set it apart from Generative AI techniques like GANs and VAEs. Transformer models understand the interplay of words in a sentence, capturing context. Multiple projects like Google’s BERT and OpenAI’s GPT-3 and GPT-4, two of the most powerful generative AI models, are based on the Transformer architecture. The Transformers architecture is poised to significantly advance the capabilities and applications of Generative AI, pushing the boundaries of what machines can create and how they assist in the creative process.\n",
      "URL: https://www.pluralsight.com/resources/blog/ai-and-data/what-are-transformers-generative-ai\n",
      "\n",
      "Title: How Transformers Work: A Detailed Exploration of ...\n",
      "Content: Jan 9, 2024—A transformer isa type of artificial intelligence modelthat learns to understand and generate human-like text by analyzing patterns in large amounts of text\n",
      "URL: https://www.datacamp.com/tutorial/how-transformers-work\n"
     ]
    }
   ],
   "source": [
    "print(web_search_tool.invoke(\"what are ransformers in ai\"))"
   ]
  },
  {
   "cell_type": "code",
   "execution_count": 38,
   "id": "3261a570",
   "metadata": {},
   "outputs": [],
   "source": [
    "# ── Pydantic schemas ─────────────────────────────────────────────────\n",
    "class RouteDecision(BaseModel):\n",
    "    route: Literal[\"rag\", \"answer\", \"end\"]\n",
    "    reply: str | None = Field(None, description=\"Filled only when route == 'end'\")\n",
    "\n",
    "class RagJudge(BaseModel):\n",
    "    sufficient: bool"
   ]
  },
  {
   "cell_type": "code",
   "execution_count": 41,
   "id": "9f380a6e",
   "metadata": {},
   "outputs": [],
   "source": [
    "# ── LLM instances with structured output where needed ───────────────\n",
    "router_llm = ChatGoogleGenerativeAI(model=\"gemini-2.5-flash-lite\", temperature=0).with_structured_output(RouteDecision)\n",
    "judge_llm  = ChatGoogleGenerativeAI(model=\"gemini-2.5-flash-lite\", temperature=0).with_structured_output(RagJudge)\n",
    "answer_llm = ChatGoogleGenerativeAI(model=\"gemini-2.5-flash-lite\", temperature=0.7)"
   ]
  },
  {
   "cell_type": "code",
   "execution_count": 46,
   "id": "8fbe48de",
   "metadata": {},
   "outputs": [],
   "source": [
    "# ── Shared state type ────────────────────────────────────────────────\n",
    "class AgentState(TypedDict, total=False):\n",
    "    messages: List[BaseMessage]\n",
    "    route:    Literal[\"rag\", \"answer\", \"end\"]\n",
    "    rag:      str\n",
    "    web:      str"
   ]
  },
  {
   "cell_type": "code",
   "execution_count": null,
   "id": "fd5b1998",
   "metadata": {},
   "outputs": [],
   "source": [
    "# ── Node 1: decision/router ─────────────────────────────────────────\n",
    "def router_node(state: AgentState) -> AgentState:\n",
    "    query = next((m.content for m in reversed(state[\"messages\"])\n",
    "                  if isinstance(m, HumanMessage)), \"\")\n",
    "\n",
    "    # Use structured output properly - pass messages directly\n",
    "    messages = [\n",
    "        (\"system\", (\n",
    "            \"You are a router that decides how to handle user queries:\\n\"\n",
    "            \"- Use 'end' for pure greetings/small-talk (also provide a 'reply')\\n\"\n",
    "            \"- Use 'rag' when knowledge base lookup is needed\\n\"\n",
    "            \"- Use 'answer' when you can answer directly without external info\"\n",
    "        )),\n",
    "        (\"user\", query)\n",
    "    ]\n",
    "\n",
    "    result: RouteDecision = router_llm.invoke(messages)\n",
    "\n",
    "    out = {\"messages\": state[\"messages\"], \"route\": result.route}\n",
    "    if result.route == \"end\":\n",
    "        out[\"messages\"] = state[\"messages\"] + [AIMessage(content=result.reply or \"Hello!\")]\n",
    "    return out"
   ]
  },
  {
   "cell_type": "code",
   "execution_count": null,
   "id": "9f09a639",
   "metadata": {},
   "outputs": [],
   "source": []
  },
  {
   "cell_type": "code",
   "execution_count": 48,
   "id": "b8499483",
   "metadata": {},
   "outputs": [],
   "source": [
    "# ── Node 2: RAG lookup ───────────────────────────────────────────────\n",
    "def rag_node(state: AgentState) -> AgentState:\n",
    "    query = next((m.content for m in reversed(state[\"messages\"])\n",
    "                  if isinstance(m, HumanMessage)), \"\")\n",
    "\n",
    "    chunks = rag_search_tool.invoke({\"query\": query})\n",
    "\n",
    "    # Use structured output to judge if RAG results are sufficient\n",
    "    judge_messages = [\n",
    "        (\"system\", (\n",
    "            \"You are a judge evaluating if the retrieved information is sufficient \"\n",
    "            \"to answer the user's question. Consider both relevance and completeness.\"\n",
    "        )),\n",
    "        (\"user\", f\"Question: {query}\\n\\nRetrieved info: {chunks}\\n\\nIs this sufficient to answer the question?\")\n",
    "    ]\n",
    "\n",
    "    verdict: RagJudge = judge_llm.invoke(judge_messages)\n",
    "\n",
    "    return {\n",
    "        **state,\n",
    "        \"rag\": chunks,\n",
    "        \"route\": \"answer\" if verdict.sufficient else \"web\"\n",
    "    }\n",
    "\n",
    "# ── Node 3: web search ───────────────────────────────────────────────\n",
    "def web_node(state: AgentState) -> AgentState:\n",
    "    query = next((m.content for m in reversed(state[\"messages\"])\n",
    "                  if isinstance(m, HumanMessage)), \"\")\n",
    "    snippets = web_search_tool.invoke({\"query\": query})\n",
    "    return {**state, \"web\": snippets, \"route\": \"answer\"}\n"
   ]
  },
  {
   "cell_type": "code",
   "execution_count": 49,
   "id": "ea5180a0",
   "metadata": {},
   "outputs": [],
   "source": [
    "# ── Node 4: final answer ─────────────────────────────────────────────\n",
    "def answer_node(state: AgentState) -> AgentState:\n",
    "    user_q = next((m.content for m in reversed(state[\"messages\"])\n",
    "                   if isinstance(m, HumanMessage)), \"\")\n",
    "\n",
    "    ctx_parts = []\n",
    "    if state.get(\"rag\"):\n",
    "        ctx_parts.append(\"Knowledge Base Information:\\n\" + state[\"rag\"])\n",
    "    if state.get(\"web\"):\n",
    "        ctx_parts.append(\"Web Search Results:\\n\" + state[\"web\"])\n",
    "\n",
    "    context = \"\\n\\n\".join(ctx_parts) if ctx_parts else \"No external context available.\"\n",
    "\n",
    "    prompt = f\"\"\"Please answer the user's question using the provided context.\n",
    "\n",
    "Question: {user_q}\n",
    "\n",
    "Context:\n",
    "{context}\n",
    "\n",
    "Provide a helpful, accurate, and concise response based on the available information.\"\"\"\n",
    "\n",
    "    ans = answer_llm.invoke([HumanMessage(content=prompt)]).content\n",
    "\n",
    "    return {\n",
    "        **state,\n",
    "        \"messages\": state[\"messages\"] + [AIMessage(content=ans)]\n",
    "    }"
   ]
  },
  {
   "cell_type": "code",
   "execution_count": null,
   "id": "cdb59c33",
   "metadata": {},
   "outputs": [],
   "source": [
    "# ── Routing helpers ─────────────────────────────────────────────────\n",
    "def from_router(st: AgentState) -> Literal[\"rag\", \"answer\", \"end\"]:\n",
    "    return st[\"route\"]\n",
    "\n",
    "def after_rag(st: AgentState) -> Literal[\"answer\", \"web\"]:\n",
    "    return st[\"route\"]\n",
    "\n",
    "def after_web(_) -> Literal[\"answer\"]:\n",
    "    return \"answer\"\n",
    "\n"
   ]
  },
  {
   "cell_type": "code",
   "execution_count": 75,
   "id": "6c410727",
   "metadata": {},
   "outputs": [
    {
     "data": {
      "image/png": "[encoded data removed]",
      "text/plain": [
       "<langgraph.graph.state.CompiledStateGraph object at 0x0000023E61BCC530>"
      ]
     },
     "execution_count": 75,
     "metadata": {},
     "output_type": "execute_result"
    }
   ],
   "source": [
    "# ── Build graph ─────────────────────────────────────────────────────\n",
    "g = StateGraph(AgentState)\n",
    "g.add_node(\"router_node\", router_node)\n",
    "g.add_node(\"rag_node\", rag_node)\n",
    "g.add_node(\"web_node\", web_node)\n",
    "g.add_node(\"answer_node\", answer_node)\n",
    "\n",
    "g.set_entry_point(\"router_node\")\n",
    "g.add_conditional_edges(\"router_node\", from_router,\n",
    "                        {\"rag\": \"rag_node\", \"answer\": \"answer_node\", \"end\": END})\n",
    "g.add_conditional_edges(\"rag_node\", after_rag,\n",
    "                        {\"answer\": \"answer_node\", \"web\": \"web_node\"})\n",
    "g.add_edge(\"web_node\",  \"answer_node\")\n",
    "g.add_edge(\"answer_node\", END)\n",
    "agent = g.compile(checkpointer=MemorySaver())\n",
    "g.compile(checkpointer=MemorySaver())\n",
    "\n",
    "\n"
   ]
  },
  {
   "cell_type": "code",
   "execution_count": null,
   "id": "acfc21c6",
   "metadata": {},
   "outputs": [],
   "source": []
  },
  {
   "cell_type": "code",
   "execution_count": 76,
   "id": "7fa92c41",
   "metadata": {},
   "outputs": [
    {
     "name": "stdout",
     "output_type": "stream",
     "text": [
      "RAG Agent CLI (type 'quit' or 'exit' to stop)\n",
      "--------------------------------------------------\n",
      "\n",
      "\n",
      "User: weather?\n",
      "Agent: The weather in Harbour Island, Bahamas is partly cloudy with a temperature of 83.0°F (28.3°C). The wind is blowing from the west at 28.2 mph.\n",
      "\n",
      "For Tuesday, September 30, 2025, there is a chance of showers and thunderstorms after 3 pm. The low is around 43°F. Wednesday will be sunny with a high near 71°F. Friday has a slight chance of showers and thunderstorms with a high near 69°F. Saturday and Saturday night have a slight chance of showers and thunderstorms. Sunday will have a slight chance of showers and thunderstorms with a high near 59°F.\n",
      "\n",
      "In Hawaii County, there is a 20 percent chance of rain. Tonight will be partly cloudy with isolated showers in the evening, and lows ranging from 71-76°F near the shore to around 53°F at higher elevations.\n",
      "\n",
      "Goodbye!\n"
     ]
    }
   ],
   "source": [
    "# ── Quick CLI test ───────────────────────────────────────────────────\n",
    "if __name__ == \"__main__\":\n",
    "    config = {\"configurable\": {\"thread_id\": \"thread-12\"}}\n",
    "    print(\"RAG Agent CLI (type 'quit' or 'exit' to stop)\")\n",
    "    print(\"-\" * 50)\n",
    "\n",
    "    while True:\n",
    "        q = input(\"\\nYou: \").strip()\n",
    "        if q.lower() in {\"quit\", \"exit\"}:\n",
    "            break\n",
    "\n",
    "        try:\n",
    "            result = agent.invoke(\n",
    "                {\"messages\": [HumanMessage(content=q)]},\n",
    "                config=config\n",
    "            )\n",
    "            print(f'\\n\\nUser: {q}')\n",
    "            # Get the last AI message\n",
    "            last_message = next((m for m in reversed(result[\"messages\"])\n",
    "                               if isinstance(m, AIMessage)), None)\n",
    "\n",
    "            if last_message:\n",
    "                \n",
    "                print(f\"Agent: {last_message.content}\")\n",
    "            else:\n",
    "                print(\"Agent: No response generated\")\n",
    "\n",
    "        except Exception as e:\n",
    "            print(f\"Error: {e}\")\n",
    "\n",
    "    print(\"\\nGoodbye!\")"
   ]
  },
  {
   "cell_type": "code",
   "execution_count": null,
   "id": "d5a86c58",
   "metadata": {},
   "outputs": [],
   "source": []
  }
 ],
 "metadata": {
  "kernelspec": {
   "display_name": "venv",
   "language": "python",
   "name": "python3"
  },
  "language_info": {
   "codemirror_mode": {
    "name": "ipython",
    "version": 3
   },
   "file_extension": ".py",
   "mimetype": "text/x-python",
   "name": "python",
   "nbconvert_exporter": "python",
   "pygments_lexer": "ipython3",
   "version": "3.12.7"
  }
 },
 "nbformat": 4,
 "nbformat_minor": 5
}
